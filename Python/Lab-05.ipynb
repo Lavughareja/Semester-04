{
 "cells": [
  {
   "cell_type": "markdown",
   "metadata": {},
   "source": [
    "\n",
    "<a href='https://www.darshan.ac.in/'> <img src='https://www.darshan.ac.in/Content/media/DU_Logo.svg' width=\"250\" height=\"300\"/></a>\n",
    "<pre>\n",
    "<center><b><h1>Python Programming - 2101CS405</b></center>\n",
    "<center><b><h1>Lab - 5</b></center>    \n",
    "<pre>"
   ]
  },
  {
   "cell_type": "markdown",
   "metadata": {},
   "source": [
    "# list"
   ]
  },
  {
   "cell_type": "markdown",
   "metadata": {},
   "source": [
    "### 01) WAP to find sum of all the elements in List."
   ]
  },
  {
   "cell_type": "code",
   "execution_count": 2,
   "metadata": {},
   "outputs": [
    {
     "name": "stdout",
     "output_type": "stream",
     "text": [
      "enter no of element5\n",
      "1\n",
      "2\n",
      "3\n",
      "4\n",
      "5\n",
      "15\n"
     ]
    }
   ],
   "source": [
    "a=[]\n",
    "n=int(input(\"enter no of element\"))\n",
    "for k in range(n):\n",
    "    n=int(input())\n",
    "    a.append(n);\n",
    "sum=0\n",
    "for i in a:\n",
    "    sum=sum+i;\n",
    "print(sum)"
   ]
  },
  {
   "cell_type": "markdown",
   "metadata": {},
   "source": [
    "### 02) WAP to find largest element in a List."
   ]
  },
  {
   "cell_type": "code",
   "execution_count": 5,
   "metadata": {},
   "outputs": [
    {
     "name": "stdout",
     "output_type": "stream",
     "text": [
      "enter no of element3\n",
      "10\n",
      "20\n",
      "3\n",
      "20\n"
     ]
    }
   ],
   "source": [
    "a=[]\n",
    "n=int(input(\"enter no of element\"))\n",
    "for k in range(n):\n",
    "    n=int(input())\n",
    "    a.append(n);\n",
    "max=a[0];\n",
    "l=len(a);\n",
    "for i in range(1,l):\n",
    "    if a[i-1]<a[i]:\n",
    "        max=a[i];\n",
    "print(max)\n"
   ]
  },
  {
   "cell_type": "markdown",
   "metadata": {},
   "source": [
    "### 03) WAP to split the List into two and append the first part to the end."
   ]
  },
  {
   "cell_type": "code",
   "execution_count": 5,
   "metadata": {},
   "outputs": [
    {
     "name": "stdout",
     "output_type": "stream",
     "text": [
      "enter no of element5\n",
      "1\n",
      "2\n",
      "3\n",
      "4\n",
      "5\n",
      "[3, 4, 5, 1, 2]\n"
     ]
    }
   ],
   "source": [
    "a=[]\n",
    "n=int(input(\"enter no of element\"))\n",
    "for k in range(n):\n",
    "    n=int(input())\n",
    "    a.append(n);\n",
    "mid=int(n/2);\n",
    "l=len(a);\n",
    "\n",
    "l1=a[0:mid:1]\n",
    "l2=a[mid::1]\n",
    "for i in l1:\n",
    "    l2.append(i);\n",
    "print(l2)\n",
    "\n",
    "\n",
    "\n",
    "\n",
    "\n"
   ]
  },
  {
   "cell_type": "markdown",
   "metadata": {},
   "source": [
    "### 04) WAP to interchange first and last elements in list entered by a user."
   ]
  },
  {
   "cell_type": "code",
   "execution_count": 6,
   "metadata": {},
   "outputs": [
    {
     "name": "stdout",
     "output_type": "stream",
     "text": [
      "enter no of element5\n",
      "1\n",
      "2\n",
      "3\n",
      "4\n",
      "5\n",
      "[5, 2, 3, 4, 1]\n"
     ]
    }
   ],
   "source": [
    "a=[]\n",
    "n=int(input(\"enter no of element\"))\n",
    "for k in range(n):\n",
    "    n=int(input())\n",
    "    a.append(n);\n",
    "l=len(a);\n",
    "temp=a[0];\n",
    "a[0]=a[l-1];\n",
    "a[l-1]=temp;\n",
    "print(a)"
   ]
  },
  {
   "cell_type": "markdown",
   "metadata": {},
   "source": [
    "### 05) WAP to interchange the elements on two positions entered by a user."
   ]
  },
  {
   "cell_type": "code",
   "execution_count": 10,
   "metadata": {},
   "outputs": [
    {
     "name": "stdout",
     "output_type": "stream",
     "text": [
      "enter no of element5\n",
      "1\n",
      "2\n",
      "3\n",
      "4\n",
      "5\n",
      "enter 1st posi2\n",
      "enter 2st posi3\n",
      "[1, 2, 4, 3, 5]\n"
     ]
    }
   ],
   "source": [
    "a=[]\n",
    "n=int(input(\"enter no of element\"))\n",
    "for k in range(n):\n",
    "    n=int(input())\n",
    "    a.append(n);\n",
    "x=int(input(\"enter 1st posi\"))\n",
    "y=int(input(\"enter 2st posi\"))\n",
    "temp=a[x];\n",
    "a[x]=a[y];\n",
    "a[y]=temp;\n",
    "print(a)\n"
   ]
  },
  {
   "cell_type": "markdown",
   "metadata": {},
   "source": [
    "### 06) WAP to reverses the list entered by user."
   ]
  },
  {
   "cell_type": "code",
   "execution_count": 8,
   "metadata": {},
   "outputs": [
    {
     "name": "stdout",
     "output_type": "stream",
     "text": [
      "enter no of element5\n",
      "1\n",
      "2\n",
      "3\n",
      "4\n",
      "5\n",
      "[5, 4, 3, 2, 1]\n"
     ]
    }
   ],
   "source": [
    "a=[]\n",
    "n=int(input(\"enter no of element\"))\n",
    "for k in range(n):\n",
    "    n=int(input())\n",
    "    a.append(n);\n",
    "l=len(a);\n",
    "print(a[::-1])"
   ]
  },
  {
   "cell_type": "markdown",
   "metadata": {},
   "source": [
    "### 07) Python program to remove multiple elements from a list using list comprehension"
   ]
  },
  {
   "cell_type": "code",
   "execution_count": null,
   "metadata": {},
   "outputs": [],
   "source": []
  },
  {
   "cell_type": "markdown",
   "metadata": {},
   "source": [
    "### 08) Create a list from the specified start to end index of another list."
   ]
  },
  {
   "cell_type": "code",
   "execution_count": 1,
   "metadata": {},
   "outputs": [
    {
     "name": "stdout",
     "output_type": "stream",
     "text": [
      "enter no of element5\n",
      "1\n",
      "2\n",
      "3\n",
      "4\n",
      "5\n",
      "enter 1st posi1\n",
      "enter 2st posi3\n",
      "[2, 3, 4]\n"
     ]
    }
   ],
   "source": [
    "a=[]\n",
    "b=[]\n",
    "n=int(input(\"enter no of element\"))\n",
    "for k in range(n):\n",
    "    n=int(input())\n",
    "    a.append(n);\n",
    "x=int(input(\"enter 1st posi\"))\n",
    "y=int(input(\"enter 2st posi\"))\n",
    "l1=a[x:y+1:1]\n",
    "print(l1);\n",
    "\n"
   ]
  },
  {
   "cell_type": "markdown",
   "metadata": {},
   "source": [
    "### 09) Input comma separated elements, convert into list and print."
   ]
  },
  {
   "cell_type": "code",
   "execution_count": 6,
   "metadata": {},
   "outputs": [
    {
     "name": "stdout",
     "output_type": "stream",
     "text": [
      "enter stringlav,is,honest\n",
      "['lav', 'is', 'honest']\n"
     ]
    }
   ],
   "source": [
    "a=input(\"enter string\")\n",
    "l1=a.split(\",\")\n",
    "print(l1)"
   ]
  },
  {
   "cell_type": "markdown",
   "metadata": {},
   "source": [
    "### 01) WAP to count Even and Odd numbers in a List."
   ]
  },
  {
   "cell_type": "code",
   "execution_count": 5,
   "metadata": {},
   "outputs": [
    {
     "name": "stdout",
     "output_type": "stream",
     "text": [
      "enter no of element5\n",
      "1\n",
      "2\n",
      "3\n",
      "4\n",
      "5\n",
      "even number is= 2\n",
      "odd number is= 3\n"
     ]
    }
   ],
   "source": [
    "a=[]\n",
    "\n",
    "n=int(input(\"enter no of element\"))\n",
    "for k in range(n):\n",
    "    n=int(input())\n",
    "    a.append(n);\n",
    "even=0\n",
    "odd=0\n",
    "for i in a:\n",
    "    if i%2==0:\n",
    "        even+=1;\n",
    "    else:\n",
    "        odd+=1;\n",
    "print(\"even number is=\",even)\n",
    "print(\"odd number is=\",odd)"
   ]
  },
  {
   "cell_type": "markdown",
   "metadata": {},
   "source": [
    "### 02) Python program to find N largest and smallest elements from the list"
   ]
  },
  {
   "cell_type": "code",
   "execution_count": null,
   "metadata": {},
   "outputs": [],
   "source": [
    "a=[]\n",
    "n=int(input(\"enter no of element\"))\n",
    "for k in range(n):\n",
    "    n=int(input())\n",
    "    a.append(n);\n",
    "n=int(input(\"enter no\"));\n",
    "max=a[0];\n",
    "l=len(a);\n",
    "a=a.sort();\n",
    "max=a[l-6::1];\n",
    "min=a[0:5:1];\n",
    "print(\"max number is\",max)\n",
    "print(\"min number is\",min)\n"
   ]
  },
  {
   "cell_type": "markdown",
   "metadata": {},
   "source": [
    "### 03) WAP to print duplicates from a list of integers"
   ]
  },
  {
   "cell_type": "code",
   "execution_count": 11,
   "metadata": {},
   "outputs": [
    {
     "name": "stdout",
     "output_type": "stream",
     "text": [
      "enter no of element5\n",
      "1\n",
      "2\n",
      "3\n",
      "1\n",
      "5\n",
      "[1]\n"
     ]
    }
   ],
   "source": [
    "a=[]\n",
    "n=int(input(\"enter no of element\"))\n",
    "for k in range(n):\n",
    "    n=int(input())\n",
    "    a.append(n);\n",
    "\n",
    "d=[]\n",
    "for c in a:\n",
    "    if a.count(c)>1 and c not in d:\n",
    "        d.append(c)\n",
    "print(d)"
   ]
  },
  {
   "cell_type": "code",
   "execution_count": null,
   "metadata": {},
   "outputs": [],
   "source": []
  }
 ],
 "metadata": {
  "kernelspec": {
   "display_name": "Python 3 (ipykernel)",
   "language": "python",
   "name": "python3"
  },
  "language_info": {
   "codemirror_mode": {
    "name": "ipython",
    "version": 3
   },
   "file_extension": ".py",
   "mimetype": "text/x-python",
   "name": "python",
   "nbconvert_exporter": "python",
   "pygments_lexer": "ipython3",
   "version": "3.9.13"
  }
 },
 "nbformat": 4,
 "nbformat_minor": 4
}
